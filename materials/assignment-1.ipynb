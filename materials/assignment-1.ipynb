{
  "nbformat": 4,
  "nbformat_minor": 0,
  "metadata": {
    "colab": {
      "name": "da-milestone-1-group-000",
      "provenance": [],
      "collapsed_sections": [],
      "include_colab_link": true
    },
    "kernelspec": {
      "display_name": "Python 3",
      "name": "python3"
    }
  },
  "cells": [
    {
      "cell_type": "markdown",
      "metadata": {
        "id": "view-in-github",
        "colab_type": "text"
      },
      "source": [
        "<a href=\"https://colab.research.google.com/github/mickaeltemporao/data-analysis/blob/main/materials/assignment-1.ipynb\" target=\"_parent\"><img src=\"https://colab.research.google.com/assets/colab-badge.svg\" alt=\"Open In Colab\"/></a>"
      ]
    },
    {
      "cell_type": "markdown",
      "metadata": {
        "id": "5fCEDCU_qrC0"
      },
      "source": [
        "# Milestone -  Idea\n",
        "\n",
        "## Objectives\n",
        "- Become familiar with notebooks.\n",
        "- Become familiar with Markdown syntax.\n",
        "- Improve academic writing skills.\n"
      ]
    },
    {
      "cell_type": "markdown",
      "metadata": {
        "id": "pe4gCm198ygp"
      },
      "source": [
        "## Instructions\n",
        "\n",
        "### The Setup\n",
        "Before you can start this milestone, you need to create your own copy of this notebook. This will allow you to edit, save and share your work.\n",
        "\n",
        "1. **Click** on *'File' -> 'Save a copy in Drive'*\n",
        "    - A new notebook is created named \"Copy of ...\".\n",
        "2. **Rename** the notebook called \"Copy of ...\" appropriately. \n",
        "3. **Use** the newly created and renamed notebook to complete the challenge.\n",
        "\n",
        "\n",
        "### The Milestone\n",
        "1. Write a summary paragraph of your project idea.\n",
        "    - Your idea is related to political behaviour and/or public opinion.\n",
        "    - You introduce a puzzle, mention what your research question is and formulate a hypothesis based on what you know today.\n",
        "    - The research question can be on any topic that you can tackle with the [ANES 2020 dataset]().\n",
        "    - You need to leverage the two scientific articles to build your summary paragraph.\n",
        "    - Format your in-text citations using the [APA format](https://www.mendeley.com/guides/apa-citation-guide).\n",
        "    - Add a title above your paragraph.\n",
        "2. Use [Google Scholar](https://scholar.google.com/) or [Cairn](https://www.cairn.info/) to find two scientific articles (not books) illustrating the importance of a factor on voting behaviour.\n",
        "\n",
        "3. Add a text cell at the end of your notebook with your references.\n",
        "    - In this text cell add a subtitle called \"References\"\n",
        "    - Add all the references in [APA format](https://www.mendeley.com/guides/apa-citation-guide).\n",
        "\n",
        "- **Bonus:** Use Markdown syntax to add links to each of your references that link to the webpage of your scientific articles.\n",
        "\n",
        "\n",
        "### The Submission\n",
        "1. When you are ready to submit your work click on *'Share' -> 'Copy link'*.\n",
        "2. Verify that your link works by opening it in a new browser window.\n",
        "    - You should see your latest edits inside the this notebook.\n",
        "3. Send a **private message** to the instructor on the\n",
        "    - In your message include the course name (itds), assignment type (eg. chall-1), and the copied link to your notebook.\n",
        "\n",
        "- Submission are considered until the start of the next session.\n",
        "- Late submissions will not be considered!\n",
        "\n",
        "\n",
        "#### Help, I'm stuck?!\n",
        "It is normal to be stuck during challenges and it is part of the learning process. When you are blocked during a coding challenge, try to solve your bugs (e.g. Google your error messages). Trying to solve your errors and bugs will help you build the mindset needed to be successful in this course and will help you better understand the tools and methods we use throughout the course.\n",
        "\n",
        "- If you are stuck for 30 minutes on a challenge, take a break and come back later.\n",
        "- If you are still stuck after revisiting your problem with a fresh mindset ask for help using the Chat! Don't be shy, it is likely that other students might be able to help you!\n",
        "\n",
        "**Delete the *Instructions* cell before sharing your work.**\n"
      ]
    }
  ]
}