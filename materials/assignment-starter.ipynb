{
  "nbformat": 4,
  "nbformat_minor": 0,
  "metadata": {
    "colab": {
      "name": "da-milestone-0000-group-0000",
      "provenance": [],
      "collapsed_sections": [],
      "include_colab_link": true
    },
    "kernelspec": {
      "display_name": "Python 3",
      "name": "python3"
    }
  },
  "cells": [
    {
      "cell_type": "markdown",
      "metadata": {
        "id": "view-in-github",
        "colab_type": "text"
      },
      "source": [
        "<a href=\"https://colab.research.google.com/github/mickaeltemporao/data-analysis/blob/main/materials/assignment-starter.ipynb\" target=\"_parent\"><img src=\"https://colab.research.google.com/assets/colab-badge.svg\" alt=\"Open In Colab\"/></a>"
      ]
    },
    {
      "cell_type": "markdown",
      "metadata": {
        "id": "5fCEDCU_qrC0"
      },
      "source": [
        "# Milestone Title\n",
        "\n",
        "### Objectives\n",
        "- Add objective 1\n",
        "- Add objective 2\n",
        "- Add objective 3\n"
      ]
    },
    {
      "cell_type": "markdown",
      "metadata": {
        "id": "pe4gCm198ygp"
      },
      "source": [
        "## Instructions\n",
        "\n",
        "### The Setup\n",
        "Before you can start this milestone, you need to create your own copy of this notebook. This will allow you to edit, save and share your work.\n",
        "\n",
        "1. **Click** on *'File' -> 'Save a copy in Drive'*\n",
        "    - A new notebook is created named \"Copy of ...\".\n",
        "2. **Rename** the notebook called \"Copy of ...\" appropriately. \n",
        "3. **Use** the newly created and renamed notebook to complete the milestone.\n",
        "\n",
        "### The Milestone\n",
        "1. ...\n",
        "2. ...\n",
        "3. ...\n",
        "- **Bonus:** ...\n",
        "\n",
        "### The Submission\n",
        "1. When you are ready to submit your work click on *'Share' -> 'Copy link'*.\n",
        "2. Click the *'Change to anyone with the link'* button located at the left of the 'Copy link' button.\n",
        "    - This will allow anyone with the link to view your notebook.\n",
        "    - Verify that your link works by opening it in an incognito browser window.\n",
        "    - You should see your latest edits inside this notebook.\n",
        "3. Send a **private message** to the instructor using the Chat\n",
        "    - In your message include the course name (data-analysis), assignment type (eg. milestone-1), and the copied link to your notebook.\n",
        "    - Submission are considered until the start of the next session.\n",
        "    - Late submissions will not be considered!\n",
        "\n",
        "\n",
        "**Delete the *Instructions* cell before sharing your work.**"
      ]
    }
  ]
}