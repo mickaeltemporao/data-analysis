{
  "nbformat": 4,
  "nbformat_minor": 0,
  "metadata": {
    "colab": {
      "name": "da-milestone-3-group-000",
      "provenance": [],
      "collapsed_sections": [],
      "include_colab_link": true
    },
    "kernelspec": {
      "display_name": "Python 3",
      "name": "python3"
    }
  },
  "cells": [
    {
      "cell_type": "markdown",
      "metadata": {
        "id": "view-in-github",
        "colab_type": "text"
      },
      "source": [
        "<a href=\"https://colab.research.google.com/github/mickaeltemporao/data-analysis/blob/main/materials/assignment-2.ipynb\" target=\"_parent\"><img src=\"https://colab.research.google.com/assets/colab-badge.svg\" alt=\"Open In Colab\"/></a>"
      ]
    },
    {
      "cell_type": "markdown",
      "metadata": {
        "id": "5fCEDCU_qrC0"
      },
      "source": [
        "# Milestone - Proposal\n",
        "\n",
        "The proposal is a two-page summary (~ 500 words) of your project that builds upon the previous milesonte and incorporates any feedback received from the instructor. You can copy/paste your previous milestone and make your edits from there.\n",
        "\n",
        "## Objectives\n",
        "- Refine your research question.\n",
        "- Refine your hypothesis.\n",
        "- Identify your dependent and independent variables\n",
        "- Identify and define relevant concepts\n",
        "- Improve the literature review \n",
        "\n"
      ]
    },
    {
      "cell_type": "markdown",
      "metadata": {
        "id": "pe4gCm198ygp"
      },
      "source": [
        "## Instructions\n",
        "\n",
        "### The Setup\n",
        "Before you can start this milestone, you need to create your own copy of this notebook. This will allow you to edit, save and share your work.\n",
        "\n",
        "1. **Click** on *'File' -> 'Save a copy in Drive'*\n",
        "    - A new notebook is created named \"Copy of ...\".\n",
        "2. **Rename** the notebook called \"Copy of ...\" appropriately. \n",
        "3. **Use** the newly created and renamed notebook to complete the milestone.\n",
        "\n",
        "\n",
        "### The Milestone\n",
        "\n",
        "In this milestone you will start writing the introduction of your paper. This is simply an extended version of your project idea.\n",
        "\n",
        "Your introduction should consist of 5 paragraphs where you leverage at least 5 different scientific articles related to your paper.\n",
        "\n",
        "1. The first paragraph introduces a puzzle and provides context to illustrate why your research question matters.\n",
        "2. The second paragraph emphasizes what has been done in terms of empirical research on your topic and introduces relevant concepts related to the phenomenon you are trying to understand based on what other scholars have done (focus on scientific articles and avoid books).\n",
        "3. The third paragraph focuses on the dependent variable (DV) - what phenomenon are trying to explain? You define your DV in this paragraph and discuss some of the opportunities and challenges related to it.\n",
        "4. The fourth paragraph focuses on the independent variable (IV) - what could explain the changes you observe in the phenomenon you are insterested in? Make a hypothesis. Define your IV and discuss some of the opportunities and challenges related to it.\n",
        "5. The last paragraphs wraps things up, and moves to next steps and potential ideas to migitate the identified challenges. \n",
        "\n",
        "Optional (but useful): you can start thinking about the variables you could use from the ANES as your DV and IV.\n",
        "\n",
        "**Remember to:**\n",
        "\n",
        "- Format all your in-text citations and references using the [APA format](https://www.mendeley.com/guides/apa-citation-guide).\n",
        "- Use [Google Scholar](https://scholar.google.com/) or [Cairn](https://www.cairn.info/) to identify relevant scientific articles.\n",
        "- Leverage the scientific articles appropriatly.\n",
        "- Add a \"References\" text cell at the end of your notebook with all of your references.\n",
        "\n",
        "### The Submission\n",
        "1. When you are ready to submit your work click on *'Share' -> 'Copy link'*.\n",
        "2. Click the *'Change to anyone with the link'* button located at the left of the 'Copy link' button.\n",
        "    - This will allow anyone with the link to view your notebook.\n",
        "    - Verify that your link works by opening it in an incognito browser window.\n",
        "    - You should see your latest edits inside this notebook.\n",
        "3. Send a **private message** to the instructor using the Chat\n",
        "    - In your message include the course name (data-analysis), assignment type (eg. milestone-1), and the copied link to your notebook.\n",
        "    - Submission are considered until the start of the next session.\n",
        "    - Late submissions will not be considered!\n",
        "\n",
        "\n",
        "**Delete the *Instructions* cell before sharing your work.**\n"
      ]
    },
    {
      "cell_type": "markdown",
      "metadata": {
        "id": "7amXEZddXV6q"
      },
      "source": [
        "# Paper Title\n",
        "## Optional subtitle\n",
        "#### Author 1, Author 2, Author 3\n"
      ]
    },
    {
      "cell_type": "markdown",
      "metadata": {
        "id": "hfz32QD9el_x"
      },
      "source": [
        "Some text that you will end up changing... "
      ]
    }
  ]
}
