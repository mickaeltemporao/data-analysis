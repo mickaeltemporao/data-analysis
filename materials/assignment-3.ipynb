{
  "nbformat": 4,
  "nbformat_minor": 0,
  "metadata": {
    "colab": {
      "name": "da-milestone-3-group-000",
      "provenance": [],
      "collapsed_sections": [],
      "include_colab_link": true
    },
    "kernelspec": {
      "display_name": "Python 3",
      "name": "python3"
    }
  },
  "cells": [
    {
      "cell_type": "markdown",
      "metadata": {
        "id": "view-in-github",
        "colab_type": "text"
      },
      "source": [
        "<a href=\"https://colab.research.google.com/github/mickaeltemporao/data-analysis/blob/main/materials/assignment-3.ipynb\" target=\"_parent\"><img src=\"https://colab.research.google.com/assets/colab-badge.svg\" alt=\"Open In Colab\"/></a>"
      ]
    },
    {
      "cell_type": "markdown",
      "metadata": {
        "id": "5fCEDCU_qrC0"
      },
      "source": [
        "# Milestone - Exploration\n",
        "\n",
        "The Exploration Milestone is an extended summary of your project with preliminary data analysis that builds upon the previous milestones and incorporates any feedback received from the instructor until now. \n",
        "\n",
        "- Copy/paste your previous milestone and make your edits and new additions in this notebook.\n",
        "- Maximum of 1500 words \n",
        "\n",
        "## Objectives\n",
        "- Extend your literature review\n",
        "- Visualise and discuss your dependent and  main independent variable(s)\n",
        "- Visualise and discuss relevant control variable(s) \n"
      ]
    },
    {
      "cell_type": "markdown",
      "metadata": {
        "id": "pe4gCm198ygp"
      },
      "source": [
        "## Instructions\n",
        "\n",
        "### The Setup\n",
        "Before you can start this milestone, you need to create your own copy of this notebook. This will allow you to edit, save and share your work.\n",
        "\n",
        "1. **Click** on *'File' -> 'Save a copy in Drive'*\n",
        "    - A new notebook is created named \"Copy of ...\".\n",
        "2. **Rename** the notebook called \"Copy of ...\" appropriately. \n",
        "3. **Use** the newly created and renamed notebook to complete the milestone.\n",
        "\n",
        "\n",
        "### The Milestone\n",
        "In this milestone you will start analysing the data from the ANES 2020 that is relevant for your paper. This an extended version of your proposal with commented visualisations.\n",
        "\n",
        "Remember that you can re-use what you wrote in the previous milestones!\n",
        "\n",
        "The sections you need to have and the instructions have been added to the cells below this one. \n",
        "\n",
        "- Keep the same structure but rename the sections and subsections so that they are relevant to your project.\n",
        "\n",
        "- Expand your literature review to 10-15 scientific articles related to your topic and leverage the scientific articles throughout the paper.\n",
        "\n",
        "\n",
        "\n",
        "- A code cell loading the ANES dataset has been prepared for you. \n",
        "\n",
        "- Make a figure to visualize \n",
        "\n",
        "Optional (but useful): you can start thinking about the variables you could use from the ANES as your DV and IV.\n",
        "\n",
        "\n",
        "\n",
        "\n",
        "\n",
        "\n",
        "\n",
        "**Remember to:**\n",
        "\n",
        "- Format all your in-text citations and references using the [APA format](https://www.mendeley.com/guides/apa-citation-guide).\n",
        "- Use [Google Scholar](https://scholar.google.com/) or [Cairn](https://www.cairn.info/) to identify relevant scientific articles.\n",
        "- Leverage the scientific articles appropriatly.\n",
        "- Add a \"References\" text cell at the end of your notebook with all of your references.\n",
        "\n",
        "### The Submission\n",
        "1. When you are ready to submit your work click on *'Share' -> 'Copy link'*.\n",
        "2. Click the *'Change to anyone with the link'* button located at the left of the 'Copy link' button.\n",
        "    - This will allow anyone with the link to view your notebook.\n",
        "    - Verify that your link works by opening it in an incognito browser window.\n",
        "    - You should see your latest edits inside this notebook.\n",
        "3. Send a **private message** to the instructor using the Chat\n",
        "    - In your message include the course name (data-analysis), assignment type (eg. milestone-1), and the copied link to your notebook.\n",
        "    - Submission are considered until the start of the next session.\n",
        "    - Late submissions will not be considered!\n",
        "\n",
        "\n",
        "**Delete the *Instructions* cell before sharing your work.**\n"
      ]
    },
    {
      "cell_type": "markdown",
      "metadata": {
        "id": "7amXEZddXV6q"
      },
      "source": [
        "# The Title of Your Paper\n",
        "## An Optional Subtitle\n",
        "### - Wordcount: ADD YOUR WORDCOUNT HERE!\n",
        "\n",
        "#### Author 1, Author 2, Author 3\n"
      ]
    },
    {
      "cell_type": "markdown",
      "metadata": {
        "id": "hfz32QD9el_x"
      },
      "source": [
        "## Introduction\n",
        "\n",
        "Introduce your research question, provides context (why does it matters), and introduces your hypothesis.\n"
      ]
    },
    {
      "cell_type": "markdown",
      "metadata": {
        "id": "uSPEAjJet5Sf"
      },
      "source": [
        "### Subsection DV\n",
        "Some text...\n",
        "\n"
      ]
    },
    {
      "cell_type": "markdown",
      "metadata": {
        "id": "pMRCURcgt7z1"
      },
      "source": [
        "### Subsection Main IV \n",
        "Some text...\n",
        "\n"
      ]
    },
    {
      "cell_type": "markdown",
      "metadata": {
        "id": "cLzgrjNq0kQV"
      },
      "source": [
        "### Subsection Control IV\n",
        "Some text..."
      ]
    },
    {
      "cell_type": "markdown",
      "metadata": {
        "id": "V1OrXJSytx8V"
      },
      "source": [
        "## Data\n",
        "\n",
        "Write a small paragraph describing the ANES 2020 dataset and why these data can help you test your hypothesis.\n"
      ]
    },
    {
      "cell_type": "code",
      "metadata": {
        "id": "Sv6oS3tl02AP"
      },
      "source": [
        "# Load Pandas\n",
        "import pandas as pd\n",
        "\n",
        "# Import Data\n",
        "data_url = \"https://raw.githubusercontent.com/datamisc/ts-2020/main/data.csv\"\n",
        "df = pd.read_csv(data_url, compression='gzip')\n"
      ],
      "execution_count": null,
      "outputs": []
    },
    {
      "cell_type": "markdown",
      "metadata": {
        "id": "hibPhIdl0npK"
      },
      "source": [
        "### Subsection DV\n",
        "\n",
        "Some text describing the DV you will use from the ANES Dataset.\n"
      ]
    },
    {
      "cell_type": "code",
      "metadata": {
        "id": "9Y3IGVup2H2r"
      },
      "source": [
        "# Make a figure to visualise your DV\n",
        "# Your code goes here\n"
      ],
      "execution_count": null,
      "outputs": []
    },
    {
      "cell_type": "markdown",
      "metadata": {
        "id": "HtQ8N9033a83"
      },
      "source": [
        "Discuss the distribution of your variable here <- Delete this!\n",
        "\n",
        "...\n"
      ]
    },
    {
      "cell_type": "markdown",
      "metadata": {
        "id": "wZj8FMO02Fkg"
      },
      "source": [
        "### Subsection Main IV\n",
        "Some text describing the main IV you will use from the ANES Dataset.\n"
      ]
    },
    {
      "cell_type": "code",
      "metadata": {
        "id": "WIdh98GN3Ufe"
      },
      "source": [
        "# Make a figure to visualise your IV\n",
        "# Your code goes here\n"
      ],
      "execution_count": null,
      "outputs": []
    },
    {
      "cell_type": "markdown",
      "metadata": {
        "id": "Kh5Lddd32Gqn"
      },
      "source": [
        "Discuss the distribution of your variable here <- Delete this!\n",
        "\n",
        "...\n"
      ]
    },
    {
      "cell_type": "markdown",
      "metadata": {
        "id": "TUUFPl7N3i3N"
      },
      "source": [
        "## Discussion\n",
        "\n",
        "A small paragraph discussing any interesting prelimenary findings.\n"
      ]
    }
  ]
}