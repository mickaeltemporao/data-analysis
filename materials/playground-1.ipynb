{
  "nbformat": 4,
  "nbformat_minor": 0,
  "metadata": {
    "colab": {
      "name": "da-milestone-1-group-000",
      "provenance": []
    },
    "kernelspec": {
      "display_name": "Python 3",
      "name": "python3"
    }
  },
  "cells": [
    {
      "cell_type": "code",
      "source": [
        "# Loading packages\n",
        "import pandas as pd\n",
        "import numpy as np\n",
        "import statsmodels.api as sm\n",
        "import matplotlib.pyplot as plt"
      ],
      "metadata": {
        "id": "8-CvadTK2yBm"
      },
      "execution_count": null,
      "outputs": []
    },
    {
      "cell_type": "code",
      "source": [
        "# Import Data\n",
        "data_url = \"https://raw.githubusercontent.com/datamisc/ts-2020/main/data.csv\"\n",
        "anes_data  = pd.read_csv(data_url, compression='gzip')\n"
      ],
      "metadata": {
        "id": "kQte40Tx3n54"
      },
      "execution_count": null,
      "outputs": []
    },
    {
      "cell_type": "code",
      "source": [
        "my_vars = [\n",
        "\n",
        "    \"V201033\",  # vote-int\n",
        "    \"V201507x\",  # age\n",
        "    \"V201600\",  # sex\n",
        "    \"V201511x\",  # educ\n",
        "    \"V201617x\",  # income\n",
        "    \"V201231x\",  # party-id\n",
        "    \"V201200\",  # idl\n",
        "    \"V201151\",  # rate-biden\n",
        "]\n",
        "\n",
        "df = anes_data[my_vars]\n",
        "df.columns = ['vote_int', 'age', 'sex', 'educ', 'income', 'party_id', 'ideology', 'approval_rating']"
      ],
      "metadata": {
        "id": "0SbPIqgy3oWT"
      },
      "execution_count": null,
      "outputs": []
    },
    {
      "cell_type": "code",
      "source": [
        "# Handling missing values & others\n",
        "df = df[df >= 0]\n",
        "df = df.dropna()\n",
        "df = df[df['ideology'].between(1,7)]"
      ],
      "metadata": {
        "id": "lgr01rPh3pyl"
      },
      "execution_count": null,
      "outputs": []
    },
    {
      "cell_type": "code",
      "source": [
        "# Prepare the data for modeling\n",
        "df['vote_int'] = df['vote_int'].apply(lambda x: 1 if x == 1 else 0)\n",
        "df = pd.get_dummies(df, columns=['sex', 'educ'], drop_first=True, dtype=int)\n",
        "X = df.drop('vote_int', axis=1)\n",
        "y = df['vote_int']\n",
        "X = sm.add_constant(X)"
      ],
      "metadata": {
        "id": "FlYnQhTg3yJB"
      },
      "execution_count": null,
      "outputs": []
    },
    {
      "cell_type": "code",
      "source": [
        "# Fit the logistic regression model\n",
        "model = sm.Logit(y, X).fit()\n",
        "# Print the regression table\n",
        "print(model.summary())"
      ],
      "metadata": {
        "id": "7XHy3Nql3yvB"
      },
      "execution_count": null,
      "outputs": []
    },
    {
      "cell_type": "code",
      "source": [
        "# Creating predicted probabilities based on 'age'\n",
        "age_values = np.linspace(df['age'].min(), df['age'].max(), 100)\n",
        "# Create a DataFrame to store predictions\n",
        "pred_df = pd.DataFrame({'age': age_values})\n",
        "# Repeat other variables as their mean or mode for prediction\n",
        "for col in X.columns:\n",
        "    if col not in ['age', 'const']:\n",
        "        pred_df[col] = X[col].mean()\n",
        "# Add constant\n",
        "pred_df = sm.add_constant(pred_df, has_constant='add')\n",
        "\n",
        "# Predicted probabilities\n",
        "pred_probs = model.predict(pred_df)"
      ],
      "metadata": {
        "id": "x3jIa_er3zfS"
      },
      "execution_count": null,
      "outputs": []
    },
    {
      "cell_type": "code",
      "source": [
        "#ideology Plotting\n",
        "plt.figure(figsize=(10, 10))\n",
        "plt.plot(age_values, pred_probs, label='Predicted Probability', linewidth=3)\n",
        "plt.title('Predicted Probability of Voting Intention by Age', fontsize=30)\n",
        "plt.xlabel('Age', fontsize=25)\n",
        "plt.ylabel('Predicted Probability', fontsize=25)\n",
        "plt.grid(True)\n",
        "plt.legend(fontsize=20)\n",
        "plt.yticks(fontsize=20)\n",
        "plt.xticks(fontsize=20)\n",
        "plt.legend(fontsize=20)\n"
      ],
      "metadata": {
        "id": "sYl9SD_a4XxX"
      },
      "execution_count": null,
      "outputs": []
    }
  ]
}