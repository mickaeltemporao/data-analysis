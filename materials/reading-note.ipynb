{
  "nbformat": 4,
  "nbformat_minor": 0,
  "metadata": {
    "colab": {
      "name": "reading-note-group-0",
      "provenance": [],
      "authorship_tag": "ABX9TyMf7OO2sXNhYoXXlqdW4dty",
      "include_colab_link": true
    },
    "kernelspec": {
      "name": "python3",
      "display_name": "Python 3"
    },
    "language_info": {
      "name": "python"
    }
  },
  "cells": [
    {
      "cell_type": "markdown",
      "metadata": {
        "id": "view-in-github",
        "colab_type": "text"
      },
      "source": [
        "<a href=\"https://colab.research.google.com/github/mickaeltemporao/data-analysis/blob/main/materials/reading-note.ipynb\" target=\"_parent\"><img src=\"https://colab.research.google.com/assets/colab-badge.svg\" alt=\"Open In Colab\"/></a>"
      ]
    },
    {
      "cell_type": "markdown",
      "metadata": {
        "id": "HCRy_02ip9ab"
      },
      "source": [
        "# Instructions\n",
        "\n",
        "\n",
        "- All **sources are leveraged** and put in perspective in the document.\n",
        "- The in-text references and the reference list are formated using the **[APA](https://www.mendeley.com/guides/apa-citation-guide) citation guide**.\n",
        "- The reading note is **500 words(~1-2 pages in a notebook)** max!\n",
        "\n",
        "\n",
        "## Writing Tip\n",
        "- **1 page** = ~5 paragraphs\n",
        "- **1 paragraph** =  ~5 sentences = 1 idea\n",
        "    - The first sentence in a paragraph introduces the idea.\n",
        "    - Followed by three sentences written has arguments supporting the idea.\n",
        "    - The last sentence concludes the idea.\n",
        "- **1 sentence ** = ~20 words\n",
        "\n",
        "\n",
        "#### Delete instructions cell before you share this document.\n",
        "\n",
        "---"
      ]
    },
    {
      "cell_type": "markdown",
      "metadata": {
        "id": "sEmjhfuBqzCn"
      },
      "source": [
        "# Title of the article\n",
        "## Reading note - Group ...\n",
        "## Student 1, Student 2, and ...\n",
        "\n",
        "> *\"Replace this text with a relevant quote from the article\"* (Author, Year, p.XX)"
      ]
    },
    {
      "cell_type": "markdown",
      "metadata": {
        "id": "3s7y0sWJq7Bs"
      },
      "source": [
        "# Summary\n",
        "\n",
        "- What is the topic of this article?\n",
        "- What is the puzzle/research questions that the authors want to tackle?\n",
        "- What are the main points of this article?\n",
        "\n"
      ]
    },
    {
      "cell_type": "markdown",
      "metadata": {
        "id": "uiF1ybURq82C"
      },
      "source": [
        "# Contribution\n",
        "\n",
        "- What does this article bring to the table? \n",
        "- In which scientific literature does this article fit?\n",
        "\n"
      ]
    },
    {
      "cell_type": "markdown",
      "metadata": {
        "id": "2E3BWaltq-Qv"
      },
      "source": [
        "# Discussion\n",
        "\n",
        "- What are the strengths and limitations of this article?\n",
        "- What did you like/dislike in this article?\n",
        "\n"
      ]
    },
    {
      "cell_type": "markdown",
      "metadata": {
        "id": "LZYJr6yFrA68"
      },
      "source": [
        "# References\n",
        "\n",
        "- Doe, J. (1995). *Helping Students Doing Research: Designing a Template.* Some University Press.\n",
        "- Doe, J. (1995). *Helping Students Doing Research: Designing a Template.* Some University Press.\n",
        "- Doe, J. (1995). *Helping Students Doing Research: Designing a Template.* Some University Press.\n",
        "\n",
        "\n",
        "\n",
        "\n"
      ]
    }
  ]
}